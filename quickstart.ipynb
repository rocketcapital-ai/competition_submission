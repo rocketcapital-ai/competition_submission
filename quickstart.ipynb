{
 "cells": [
  {
   "cell_type": "markdown",
   "metadata": {
    "collapsed": false
   },
   "source": [
    "## **Setup**"
   ]
  },
  {
   "cell_type": "code",
   "execution_count": null,
   "metadata": {
    "collapsed": false,
    "pycharm": {
     "name": "#%%\n"
    }
   },
   "outputs": [],
   "source": [
    "from lib.submitter import *\n",
    "\n",
    "jwt = ''      # User-specified field.\n",
    "address = ''  # User-specified field.\n",
    "pk = ''       # User-specified field.\n",
    "submitter = Submitter(jwt, address, pk)"
   ]
  },
  {
   "cell_type": "markdown",
   "metadata": {},
   "source": [
    "## View wallet address information."
   ]
  },
  {
   "cell_type": "code",
   "execution_count": null,
   "metadata": {
    "collapsed": false,
    "pycharm": {
     "name": "#%%\n"
    }
   },
   "outputs": [],
   "source": [
    "print('MATIC balance for {}: {}'.format(submitter.address, submitter.get_matic_balance()))\n",
    "print('MUSA balance for {}: {}'.format(submitter.address, submitter.get_musa_balance()))\n",
    "print('Current stake for {}: {}'.format(submitter.address, submitter.get_stake()))"
   ]
  },
  {
   "cell_type": "markdown",
   "metadata": {
    "collapsed": false
   },
   "source": [
    "## **Retrieve Dataset and run models.**\n",
    "### Please follow the instructions and example found [here](https://github.com/rocketcapital-ai/competition_quickstart_dataloader).\n",
    "\n",
    "### When completed, please place final prediction csv file in the `file_to_submit` folder."
   ]
  },
  {
   "cell_type": "markdown",
   "metadata": {
    "collapsed": false
   },
   "source": [
    "## **Set stake.** (optional)\n",
    "### Skip if no changes need to be made."
   ]
  },
  {
   "cell_type": "code",
   "execution_count": null,
   "metadata": {
    "collapsed": false,
    "pycharm": {
     "name": "#%%\n"
    }
   },
   "outputs": [],
   "source": [
    "set_stake_amount = 100.00  # User-specified field.\n",
    "transaction_success = submitter.set_stake(set_stake_amount)\n",
    "assert transaction_success, 'Setting stake failed.'"
   ]
  },
  {
   "cell_type": "markdown",
   "metadata": {
    "collapsed": false,
    "pycharm": {
     "name": "#%% md\n"
    }
   },
   "source": [
    "## **Submit predictions.**\n",
    "Note that the same `submit_prediction` method should be used for re-submitting predictions."
   ]
  },
  {
   "cell_type": "code",
   "execution_count": null,
   "metadata": {
    "collapsed": false,
    "pycharm": {
     "name": "#%%\n"
    }
   },
   "outputs": [],
   "source": [
    "submission_file_name = 'my_submission_file.csv'  # User-specified field.\n",
    "transaction_success = submitter.submit_prediction(submission_file_name)\n",
    "assert transaction_success, 'Submission failed.'"
   ]
  },
  {
   "cell_type": "markdown",
   "metadata": {},
   "source": [
    "### **Retrieve and double-check predictions.** (optional)\n",
    "This section retrieves your submitted files, decrypts them, and compares them to the original file in `file_to_submit`.\n",
    "\n",
    "If the verification fails, please wait a few minutes and perform the verification again. If the problem persists, please re-submit your predictions."
   ]
  },
  {
   "cell_type": "code",
   "execution_count": null,
   "metadata": {},
   "outputs": [],
   "source": [
    "verification_success = submitter.download_and_check(submission_file_name)\n",
    "assert verification_success, 'Submission verification failed.'\n",
    "print('Files are identical. Verification check passed.')"
   ]
  }
 ],
 "metadata": {
  "interpreter": {
   "hash": "edae17e9d04636160157afaf39070a19cd5420bcd83b30472a907092c0e31e2f"
  },
  "kernelspec": {
   "display_name": "Python 3.9.2 64-bit ('RCI': conda)",
   "language": "python",
   "name": "python3"
  },
  "language_info": {
   "codemirror_mode": {
    "name": "ipython",
    "version": 3
   },
   "file_extension": ".py",
   "mimetype": "text/x-python",
   "name": "python",
   "nbconvert_exporter": "python",
   "pygments_lexer": "ipython3",
   "version": "3.9.2"
  }
 },
 "nbformat": 4,
 "nbformat_minor": 0
}