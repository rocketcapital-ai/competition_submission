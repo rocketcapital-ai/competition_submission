{
 "cells": [
  {
   "cell_type": "markdown",
   "metadata": {
    "collapsed": false
   },
   "source": [
    "## **Setup**"
   ]
  },
  {
   "cell_type": "code",
   "execution_count": null,
   "metadata": {
    "collapsed": false,
    "pycharm": {
     "name": "#%%\n"
    }
   },
   "outputs": [],
   "source": [
    "from lib.core_tools.tools import UPDOWN_COMP, NEUTRAL_COMP\n",
    "from lib.submitter import *\n",
    "\n",
    "jwt = ''      # User-specified field.\n",
    "address = ''  # User-specified field.\n",
    "pk = ''       # User-specified field.\n",
    "\n",
    "updown_submitter = Submitter(jwt, address, UPDOWN_COMP, pk)\n",
    "neutral_submitter = Submitter(jwt, address, NEUTRAL_COMP, pk)"
   ]
  },
  {
   "cell_type": "markdown",
   "metadata": {},
   "source": [
    "## View wallet address information."
   ]
  },
  {
   "cell_type": "code",
   "execution_count": null,
   "metadata": {
    "collapsed": false,
    "pycharm": {
     "name": "#%%\n"
    }
   },
   "outputs": [],
   "source": [
    "print('MATIC balance for {}: {}'.format(updown_submitter.address, updown_submitter.get_matic_balance()))\n",
    "print('YIEDL balance for {}: {}'.format(updown_submitter.address, updown_submitter.get_yiedl_balance()))"
   ]
  },
  {
   "attachments": {},
   "cell_type": "markdown",
   "metadata": {
    "collapsed": false
   },
   "source": [
    "## **Retrieve Dataset and run models.**\n",
    "### Please follow the instructions and example found [here](https://github.com/rocketcapital-ai/competition_quickstart_dataloader).\n",
    "\n",
    "### When completed, please place final prediction csv file in the respective `updown_file_to_submit` and `neutral_file_to_submit` folders."
   ]
  },
  {
   "cell_type": "markdown",
   "metadata": {
    "collapsed": false
   },
   "source": [
    "## **Stake and submit to `UPDOWN` Competition.**\n",
    "### Submission file must be placed inside the `updown_file_to_submit` folder."
   ]
  },
  {
   "cell_type": "code",
   "execution_count": null,
   "metadata": {
    "collapsed": false,
    "pycharm": {
     "name": "#%%\n"
    }
   },
   "outputs": [],
   "source": [
    "stake_amount = 100.00  # User-specified field.\n",
    "updown_submission_file_name = 'updown_submission_file.csv'  # User-specified field.\n",
    "\n",
    "transaction_success = updown_submitter.stake_and_submit(stake_amount, updown_submission_file_name)\n",
    "assert transaction_success, 'Submission failed.'"
   ]
  },
  {
   "cell_type": "markdown",
   "metadata": {
    "collapsed": false,
    "pycharm": {
     "name": "#%% md\n"
    }
   },
   "source": [
    "## **Stake and submit to `NEUTRAL` Competition.**\n",
    "### Submission file must be placed inside the `neutral_file_to_submit` folder."
   ]
  },
  {
   "cell_type": "code",
   "execution_count": null,
   "metadata": {
    "collapsed": false,
    "pycharm": {
     "name": "#%%\n"
    }
   },
   "outputs": [],
   "source": [
    "stake_amount = 100.00  # User-specified field.\n",
    "neutral_submission_file_name = 'neutral_submission_file.csv'  # User-specified field.\n",
    "\n",
    "transaction_success = neutral_submitter.stake_and_submit(stake_amount, neutral_submission_file_name)\n",
    "assert transaction_success, 'Submission failed.'"
   ]
  },
  {
   "cell_type": "markdown",
   "metadata": {
    "collapsed": false
   },
   "source": [
    "### **Retrieve and double-check UPDOWN submission.** (optional)\n",
    "This section retrieves your submitted files, decrypts them, and compares them to the original file in `updown_file_to_submit`.\n",
    "\n",
    "If the verification fails, please wait a few minutes and perform the verification again. If the problem persists, please re-submit your predictions."
   ]
  },
  {
   "cell_type": "code",
   "execution_count": null,
   "metadata": {
    "collapsed": false,
    "pycharm": {
     "name": "#%%\n"
    }
   },
   "outputs": [],
   "source": [
    "verification_success = updown_submitter.download_and_check(updown_submission_file_name)\n",
    "assert verification_success, 'UPDOWN submission verification failed.'\n",
    "print('Files are identical. UPDOWN verification check passed.')\n",
    "updown_stake = updown_submitter.get_stake()\n",
    "print(f'UPDOWN Stake: {updown_stake:.3f} YIEDL')"
   ]
  },
  {
   "cell_type": "markdown",
   "metadata": {
    "collapsed": false
   },
   "source": [
    "### **Retrieve and double-check NEUTRAL submission.** (optional)\n",
    "This section retrieves your submitted files, decrypts them, and compares them to the original file in `neutral_file_to_submit`.\n",
    "\n",
    "If the verification fails, please wait a few minutes and perform the verification again. If the problem persists, please re-submit your predictions."
   ]
  },
  {
   "cell_type": "code",
   "execution_count": null,
   "metadata": {
    "collapsed": false,
    "pycharm": {
     "name": "#%%\n"
    }
   },
   "outputs": [],
   "source": [
    "verification_success = neutral_submitter.download_and_check(neutral_submission_file_name)\n",
    "assert verification_success, 'NEUTRAL submission verification failed.'\n",
    "print('Files are identical. NEUTRAL verification check passed.')\n",
    "neutral_stake = neutral_submitter.get_stake()\n",
    "print(f'NEUTRAL Stake: {neutral_stake:.3f} YIEDL')"
   ]
  },
  {
   "attachments": {},
   "cell_type": "markdown",
   "metadata": {},
   "source": [
    "### **Withdraw Submissions.** (example)\n",
    "\n",
    "The following is an example of how to withdraw your stake and submission.\n"
   ]
  },
  {
   "cell_type": "code",
   "execution_count": null,
   "metadata": {},
   "outputs": [],
   "source": [
    "updown_submitter.withdraw()\n",
    "neutral_submitter.withdraw()\n",
    "\n",
    "print('YIEDL balance for {} after withdrawal: {}'.format(updown_submitter.address, updown_submitter.get_yiedl_balance()))"
   ]
  }
 ],
 "metadata": {
  "interpreter": {
   "hash": "edae17e9d04636160157afaf39070a19cd5420bcd83b30472a907092c0e31e2f"
  },
  "kernelspec": {
   "display_name": "Python 3.9.2 64-bit ('RCI': conda)",
   "language": "python",
   "name": "python3"
  },
  "language_info": {
   "codemirror_mode": {
    "name": "ipython",
    "version": 3
   },
   "file_extension": ".py",
   "mimetype": "text/x-python",
   "name": "python",
   "nbconvert_exporter": "python",
   "pygments_lexer": "ipython3",
   "version": "3.9.2"
  }
 },
 "nbformat": 4,
 "nbformat_minor": 0
}
